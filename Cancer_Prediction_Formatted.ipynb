{
 "cells": [
  {
   "cell_type": "markdown",
   "id": "8f3fe0f6",
   "metadata": {},
   "source": [
    "# 📌 Title of Project\n",
    "\n",
    "**Cancer Prediction Using Machine Learning**"
   ]
  },
  {
   "cell_type": "markdown",
   "id": "ba8908e9",
   "metadata": {},
   "source": [
    "## 🎯 Objective\n",
    "\n",
    "Build a model to predict if a tumor is malignant or benign using clinical features."
   ]
  },
  {
   "cell_type": "markdown",
   "id": "bd9cbdef",
   "metadata": {},
   "source": [
    "## 📊 Data Source\n",
    "\n",
    "Sample dataset included as `data.csv`. Replace with real-world datasets for better accuracy."
   ]
  },
  {
   "cell_type": "markdown",
   "id": "07e886a3",
   "metadata": {},
   "source": [
    "## 📦 Import Libraries"
   ]
  },
  {
   "cell_type": "code",
   "execution_count": null,
   "id": "574c0264",
   "metadata": {},
   "outputs": [],
   "source": [
    "import pandas as pd\n",
    "import numpy as np\n",
    "import seaborn as sns\n",
    "import matplotlib.pyplot as plt\n",
    "from sklearn.model_selection import train_test_split\n",
    "from sklearn.ensemble import RandomForestClassifier\n",
    "from sklearn.metrics import accuracy_score, classification_report, confusion_matrix"
   ]
  },
  {
   "cell_type": "markdown",
   "id": "5520f1a5",
   "metadata": {},
   "source": [
    "## 📉 Load and Explore Dataset"
   ]
  },
  {
   "cell_type": "code",
   "execution_count": null,
   "id": "52c67a01",
   "metadata": {},
   "outputs": [],
   "source": [
    "df = pd.read_csv(\"data.csv\")\n",
    "df.head()"
   ]
  },
  {
   "cell_type": "markdown",
   "id": "3c6c3ac9",
   "metadata": {},
   "source": [
    "## 📊 Exploratory Data Analysis"
   ]
  },
  {
   "cell_type": "code",
   "execution_count": null,
   "id": "b76f660d",
   "metadata": {},
   "outputs": [],
   "source": [
    "df.describe()"
   ]
  },
  {
   "cell_type": "code",
   "execution_count": null,
   "id": "ee7f5c88",
   "metadata": {},
   "outputs": [],
   "source": [
    "sns.countplot(x='diagnosis', data=df)\n",
    "plt.title('Diagnosis Distribution')\n",
    "plt.show()"
   ]
  },
  {
   "cell_type": "markdown",
   "id": "f6ac93a1",
   "metadata": {},
   "source": [
    "## 🧠 Model Building"
   ]
  },
  {
   "cell_type": "code",
   "execution_count": null,
   "id": "54e1abd2",
   "metadata": {},
   "outputs": [],
   "source": [
    "df['diagnosis'] = df['diagnosis'].map({'M': 1, 'B': 0})\n",
    "X = df.drop('diagnosis', axis=1)\n",
    "y = df['diagnosis']\n",
    "X_train, X_test, y_train, y_test = train_test_split(X, y, test_size=0.2, random_state=42)\n",
    "model = RandomForestClassifier()\n",
    "model.fit(X_train, y_train)"
   ]
  },
  {
   "cell_type": "markdown",
   "id": "7706cc77",
   "metadata": {},
   "source": [
    "## 🎯 Model Evaluation"
   ]
  },
  {
   "cell_type": "code",
   "execution_count": null,
   "id": "65d8e9b6",
   "metadata": {},
   "outputs": [],
   "source": [
    "y_pred = model.predict(X_test)\n",
    "print(\"Accuracy:\", accuracy_score(y_test, y_pred))\n",
    "print(\"\\nClassification Report:\\n\", classification_report(y_test, y_pred))"
   ]
  },
  {
   "cell_type": "markdown",
   "id": "b996d515",
   "metadata": {},
   "source": [
    "## 📈 Confusion Matrix"
   ]
  },
  {
   "cell_type": "code",
   "execution_count": null,
   "id": "65af748b",
   "metadata": {},
   "outputs": [],
   "source": [
    "conf_matrix = confusion_matrix(y_test, y_pred)\n",
    "sns.heatmap(conf_matrix, annot=True, fmt='d', cmap='Blues')\n",
    "plt.xlabel(\"Predicted\")\n",
    "plt.ylabel(\"Actual\")\n",
    "plt.title(\"Confusion Matrix\")\n",
    "plt.show()"
   ]
  },
  {
   "cell_type": "markdown",
   "id": "428a3a40",
   "metadata": {},
   "source": [
    "## ✅ Conclusion\n",
    "\n",
    "This basic model can be improved with hyperparameter tuning and full datasets."
   ]
  }
 ],
 "metadata": {},
 "nbformat": 4,
 "nbformat_minor": 5
}
